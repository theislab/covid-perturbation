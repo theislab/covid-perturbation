{
 "cells": [
  {
   "cell_type": "markdown",
   "metadata": {},
   "source": [
    "# Data and label curation"
   ]
  },
  {
   "cell_type": "markdown",
   "metadata": {},
   "source": [
    "Take Code from `/Covid19/MULTIseq_ALI/preprocess_muc21058_V2.ipynb` and extend to all samples"
   ]
  },
  {
   "cell_type": "code",
   "execution_count": 1,
   "metadata": {},
   "outputs": [
    {
     "name": "stderr",
     "output_type": "stream",
     "text": [
      "/home/icb/yuge.ji/miniconda3/envs/py37/lib/python3.7/site-packages/ipykernel/ipkernel.py:287: DeprecationWarning: `should_run_async` will not call `transform_cell` automatically in the future. Please pass the result to `transformed_cell` argument and any exception that happen during thetransform in `preprocessing_exc_tuple` in IPython 7.17 and above.\n",
      "  and should_run_async(code)\n"
     ]
    }
   ],
   "source": [
    "import numpy as np\n",
    "import matplotlib.pyplot as plt\n",
    "import scanpy as sc\n",
    "import pandas as pd\n",
    "import seaborn as sns"
   ]
  },
  {
   "cell_type": "code",
   "execution_count": 2,
   "metadata": {},
   "outputs": [
    {
     "name": "stderr",
     "output_type": "stream",
     "text": [
      "/home/icb/yuge.ji/miniconda3/envs/py37/lib/python3.7/site-packages/ipykernel/ipkernel.py:287: DeprecationWarning: `should_run_async` will not call `transform_cell` automatically in the future. Please pass the result to `transformed_cell` argument and any exception that happen during thetransform in `preprocessing_exc_tuple` in IPython 7.17 and above.\n",
      "  and should_run_async(code)\n"
     ]
    }
   ],
   "source": [
    "## Set global plotting parameters\n",
    "plt.rcParams[\"figure.figsize\"] = (6, 5)\n",
    "sns.set_style(\"ticks\")"
   ]
  },
  {
   "cell_type": "code",
   "execution_count": 3,
   "metadata": {},
   "outputs": [
    {
     "name": "stdout",
     "output_type": "stream",
     "text": [
      "scanpy==1.6.0 anndata==0.7.4 umap==0.4.6 numpy==1.19.1 scipy==1.5.2 pandas==1.1.1 scikit-learn==0.23.2 statsmodels==0.11.1 python-igraph==0.8.3 leidenalg==0.8.3\n"
     ]
    }
   ],
   "source": [
    "# sc.set_figure_params(dpi=300, frameon=False, color_map='Reds')\n",
    "sc.logging.print_header()"
   ]
  },
  {
   "cell_type": "code",
   "execution_count": 4,
   "metadata": {},
   "outputs": [
    {
     "name": "stderr",
     "output_type": "stream",
     "text": [
      "/home/icb/yuge.ji/miniconda3/envs/py37/lib/python3.7/site-packages/ipykernel/ipkernel.py:287: DeprecationWarning: `should_run_async` will not call `transform_cell` automatically in the future. Please pass the result to `transformed_cell` argument and any exception that happen during thetransform in `preprocessing_exc_tuple` in IPython 7.17 and above.\n",
      "  and should_run_async(code)\n"
     ]
    }
   ],
   "source": [
    "folder = \"~/meshal.ansari/mnt/platte_1/Projects/201109_Covid19_ALI/\"\n",
    "save_dir = '/storage/groups/ml01/workspace/yuge.ji/covid-perturbation/data/'"
   ]
  },
  {
   "cell_type": "markdown",
   "metadata": {},
   "source": [
    "BioSampleID sheet."
   ]
  },
  {
   "cell_type": "code",
   "execution_count": 5,
   "metadata": {},
   "outputs": [
    {
     "data": {
      "text/html": [
       "<div>\n",
       "<style scoped>\n",
       "    .dataframe tbody tr th:only-of-type {\n",
       "        vertical-align: middle;\n",
       "    }\n",
       "\n",
       "    .dataframe tbody tr th {\n",
       "        vertical-align: top;\n",
       "    }\n",
       "\n",
       "    .dataframe thead th {\n",
       "        text-align: right;\n",
       "    }\n",
       "</style>\n",
       "<table border=\"1\" class=\"dataframe\">\n",
       "  <thead>\n",
       "    <tr style=\"text-align: right;\">\n",
       "      <th></th>\n",
       "      <th>patient</th>\n",
       "      <th>name</th>\n",
       "      <th>barcode_round</th>\n",
       "      <th>cells</th>\n",
       "    </tr>\n",
       "    <tr>\n",
       "      <th>identifier</th>\n",
       "      <th></th>\n",
       "      <th></th>\n",
       "      <th></th>\n",
       "      <th></th>\n",
       "    </tr>\n",
       "  </thead>\n",
       "  <tbody>\n",
       "    <tr>\n",
       "      <th>muc21058</th>\n",
       "      <td>patient_1_2</td>\n",
       "      <td>ALI_1_Barcode_1</td>\n",
       "      <td>ALI_1</td>\n",
       "      <td>40000</td>\n",
       "    </tr>\n",
       "    <tr>\n",
       "      <th>muc21059</th>\n",
       "      <td>patient_1_2</td>\n",
       "      <td>ALI_1_Barcode_2</td>\n",
       "      <td>ALI_1</td>\n",
       "      <td>40000</td>\n",
       "    </tr>\n",
       "    <tr>\n",
       "      <th>muc21060</th>\n",
       "      <td>patient_1_2</td>\n",
       "      <td>ALI_1_Barcode_3</td>\n",
       "      <td>ALI_1</td>\n",
       "      <td>40000</td>\n",
       "    </tr>\n",
       "    <tr>\n",
       "      <th>muc21061</th>\n",
       "      <td>patient_1_2</td>\n",
       "      <td>ALI_1_Barcode_4</td>\n",
       "      <td>ALI_1</td>\n",
       "      <td>40000</td>\n",
       "    </tr>\n",
       "    <tr>\n",
       "      <th>muc21062</th>\n",
       "      <td>patient_3</td>\n",
       "      <td>ALI_2_Barcode_1</td>\n",
       "      <td>ALI_2</td>\n",
       "      <td>40000</td>\n",
       "    </tr>\n",
       "    <tr>\n",
       "      <th>muc21063</th>\n",
       "      <td>patient_3</td>\n",
       "      <td>ALI_2_Barcode_2</td>\n",
       "      <td>ALI_2</td>\n",
       "      <td>40000</td>\n",
       "    </tr>\n",
       "    <tr>\n",
       "      <th>muc21064</th>\n",
       "      <td>patient_3</td>\n",
       "      <td>ALI_2_Barcode_3</td>\n",
       "      <td>ALI_2</td>\n",
       "      <td>40000</td>\n",
       "    </tr>\n",
       "    <tr>\n",
       "      <th>muc21065</th>\n",
       "      <td>patient_3</td>\n",
       "      <td>ALI_2_Barcode_4</td>\n",
       "      <td>ALI_2</td>\n",
       "      <td>40000</td>\n",
       "    </tr>\n",
       "    <tr>\n",
       "      <th>muc22965</th>\n",
       "      <td>patient_4</td>\n",
       "      <td>ALI_3_Barcode_1</td>\n",
       "      <td>ALI_3</td>\n",
       "      <td>40000</td>\n",
       "    </tr>\n",
       "    <tr>\n",
       "      <th>muc22966</th>\n",
       "      <td>patient_4</td>\n",
       "      <td>ALI_3_Barcode_2</td>\n",
       "      <td>ALI_3</td>\n",
       "      <td>40000</td>\n",
       "    </tr>\n",
       "    <tr>\n",
       "      <th>muc22967</th>\n",
       "      <td>patient_4</td>\n",
       "      <td>ALI_3_Barcode_3</td>\n",
       "      <td>ALI_3</td>\n",
       "      <td>40000</td>\n",
       "    </tr>\n",
       "    <tr>\n",
       "      <th>muc22968</th>\n",
       "      <td>patient_4</td>\n",
       "      <td>ALI_3_Barcode_4</td>\n",
       "      <td>ALI_3</td>\n",
       "      <td>40000</td>\n",
       "    </tr>\n",
       "  </tbody>\n",
       "</table>\n",
       "</div>"
      ],
      "text/plain": [
       "                patient             name barcode_round  cells\n",
       "identifier                                                   \n",
       "muc21058    patient_1_2  ALI_1_Barcode_1         ALI_1  40000\n",
       "muc21059    patient_1_2  ALI_1_Barcode_2         ALI_1  40000\n",
       "muc21060    patient_1_2  ALI_1_Barcode_3         ALI_1  40000\n",
       "muc21061    patient_1_2  ALI_1_Barcode_4         ALI_1  40000\n",
       "muc21062      patient_3  ALI_2_Barcode_1         ALI_2  40000\n",
       "muc21063      patient_3  ALI_2_Barcode_2         ALI_2  40000\n",
       "muc21064      patient_3  ALI_2_Barcode_3         ALI_2  40000\n",
       "muc21065      patient_3  ALI_2_Barcode_4         ALI_2  40000\n",
       "muc22965      patient_4  ALI_3_Barcode_1         ALI_3  40000\n",
       "muc22966      patient_4  ALI_3_Barcode_2         ALI_3  40000\n",
       "muc22967      patient_4  ALI_3_Barcode_3         ALI_3  40000\n",
       "muc22968      patient_4  ALI_3_Barcode_4         ALI_3  40000"
      ]
     },
     "execution_count": 5,
     "metadata": {},
     "output_type": "execute_result"
    }
   ],
   "source": [
    "metadata = pd.read_csv('BioSample_IDs.txt', sep='\\t')\n",
    "metadata.set_index('identifier', inplace=True)\n",
    "metadata"
   ]
  },
  {
   "cell_type": "markdown",
   "metadata": {},
   "source": [
    "### Read in count matrices"
   ]
  },
  {
   "cell_type": "code",
   "execution_count": 6,
   "metadata": {},
   "outputs": [
    {
     "name": "stderr",
     "output_type": "stream",
     "text": [
      "/home/icb/yuge.ji/miniconda3/envs/py37/lib/python3.7/site-packages/ipykernel/ipkernel.py:287: DeprecationWarning: `should_run_async` will not call `transform_cell` automatically in the future. Please pass the result to `transformed_cell` argument and any exception that happen during thetransform in `preprocessing_exc_tuple` in IPython 7.17 and above.\n",
      "  and should_run_async(code)\n"
     ]
    },
    {
     "name": "stdout",
     "output_type": "stream",
     "text": [
      "CPU times: user 34.5 ms, sys: 59.2 ms, total: 93.8 ms\n",
      "Wall time: 1.95 s\n"
     ]
    }
   ],
   "source": [
    "%%time\n",
    "import glob\n",
    "import os\n",
    "dge_path = \"/storage/groups/bcf/projects/SingleCell/10x/projects/schiller/201026_Covid19_ALI/cellranger\"\n",
    "\n",
    "files = []\n",
    "for x in os.walk(dge_path):\n",
    "    for y in glob.glob(os.path.join(x[0], '*filtered_feature_bc_matrix.h5')):\n",
    "        files.append(y)"
   ]
  },
  {
   "cell_type": "code",
   "execution_count": 7,
   "metadata": {},
   "outputs": [],
   "source": [
    "def read_dges_10x(files, metadata):\n",
    "    adatas = []\n",
    "    for file in files:\n",
    "        sample_id = file.split(\"/\")[-3].lower()\n",
    "        \n",
    "        ## Read in dge (no filter for top barcodes in this)\n",
    "        a = sc.read_10x_h5(file)  ## don’t need to transpose here\n",
    "        a.var_names_make_unique() ## so it can be concatenated\n",
    "\n",
    "        a.obs[\"identifier\"] = sample_id\n",
    "        ## Add all columns from metadata Table as Metainfo (apart from cells)\n",
    "        for col in ['patient', 'name', 'barcode_round']:\n",
    "            a.obs[col] = metadata.loc[sample_id, col]\n",
    "            \n",
    "        ## For some reason the obs names are ending with \"-1\"\n",
    "        a.obs_names = [\"%s_%s\" %(sample_id, cell.replace(\"-1\", \"\")) for cell in a.obs_names.values]\n",
    "        adatas.append(a)\n",
    "        \n",
    "    return adatas"
   ]
  },
  {
   "cell_type": "code",
   "execution_count": 8,
   "metadata": {},
   "outputs": [
    {
     "name": "stderr",
     "output_type": "stream",
     "text": [
      "Variable names are not unique. To make them unique, call `.var_names_make_unique`.\n",
      "/home/icb/yuge.ji/miniconda3/envs/py37/lib/python3.7/site-packages/anndata/_core/anndata.py:1094: FutureWarning: is_categorical is deprecated and will be removed in a future version.  Use is_categorical_dtype instead\n",
      "  if not is_categorical(df_full[k]):\n",
      "Variable names are not unique. To make them unique, call `.var_names_make_unique`.\n",
      "Variable names are not unique. To make them unique, call `.var_names_make_unique`.\n",
      "Variable names are not unique. To make them unique, call `.var_names_make_unique`.\n",
      "Variable names are not unique. To make them unique, call `.var_names_make_unique`.\n",
      "Variable names are not unique. To make them unique, call `.var_names_make_unique`.\n",
      "Variable names are not unique. To make them unique, call `.var_names_make_unique`.\n",
      "Variable names are not unique. To make them unique, call `.var_names_make_unique`.\n",
      "Variable names are not unique. To make them unique, call `.var_names_make_unique`.\n",
      "Variable names are not unique. To make them unique, call `.var_names_make_unique`.\n",
      "Variable names are not unique. To make them unique, call `.var_names_make_unique`.\n",
      "Variable names are not unique. To make them unique, call `.var_names_make_unique`.\n",
      "Variable names are not unique. To make them unique, call `.var_names_make_unique`.\n",
      "Variable names are not unique. To make them unique, call `.var_names_make_unique`.\n",
      "Variable names are not unique. To make them unique, call `.var_names_make_unique`.\n",
      "Variable names are not unique. To make them unique, call `.var_names_make_unique`.\n",
      "Variable names are not unique. To make them unique, call `.var_names_make_unique`.\n",
      "Variable names are not unique. To make them unique, call `.var_names_make_unique`.\n",
      "Variable names are not unique. To make them unique, call `.var_names_make_unique`.\n",
      "Variable names are not unique. To make them unique, call `.var_names_make_unique`.\n",
      "Variable names are not unique. To make them unique, call `.var_names_make_unique`.\n",
      "Variable names are not unique. To make them unique, call `.var_names_make_unique`.\n",
      "Variable names are not unique. To make them unique, call `.var_names_make_unique`.\n",
      "Variable names are not unique. To make them unique, call `.var_names_make_unique`.\n"
     ]
    },
    {
     "name": "stdout",
     "output_type": "stream",
     "text": [
      "CPU times: user 36.6 s, sys: 5.68 s, total: 42.3 s\n",
      "Wall time: 46 s\n"
     ]
    }
   ],
   "source": [
    "%%time\n",
    "# Load dges\n",
    "adatas = read_dges_10x(files, metadata)"
   ]
  },
  {
   "cell_type": "code",
   "execution_count": 9,
   "metadata": {},
   "outputs": [
    {
     "name": "stdout",
     "output_type": "stream",
     "text": [
      "CPU times: user 2.13 s, sys: 1.31 s, total: 3.44 s\n",
      "Wall time: 3.44 s\n"
     ]
    }
   ],
   "source": [
    "%%time\n",
    "## Concatenate them into one adata file (assign categories automatically)\n",
    "adata = adatas[0].concatenate(adatas[1:], batch_key = \"sample\", join = \"outer\", index_unique = None)"
   ]
  },
  {
   "cell_type": "code",
   "execution_count": 10,
   "metadata": {},
   "outputs": [
    {
     "data": {
      "text/plain": [
       "AnnData object with n_obs × n_vars = 414497 × 20635\n",
       "    obs: 'identifier', 'patient', 'name', 'barcode_round', 'sample'\n",
       "    var: 'gene_ids', 'feature_types', 'genome'"
      ]
     },
     "execution_count": 10,
     "metadata": {},
     "output_type": "execute_result"
    }
   ],
   "source": [
    "## As outer join is used when concatenating the adatas, set NaN entries to zero\n",
    "adata.X = np.nan_to_num(adata.X)\n",
    "adata.X = adata.X.toarray()\n",
    "adata"
   ]
  },
  {
   "cell_type": "markdown",
   "metadata": {},
   "source": [
    "Label viral genes. Viral markers sourced from: https://www.ncbi.nlm.nih.gov/nuccore/1798174254 (thanks Meshal!)"
   ]
  },
  {
   "cell_type": "code",
   "execution_count": 11,
   "metadata": {
    "scrolled": false
   },
   "outputs": [
    {
     "data": {
      "text/plain": [
       "22"
      ]
     },
     "execution_count": 11,
     "metadata": {},
     "output_type": "execute_result"
    }
   ],
   "source": [
    "viral_genes = [\"ORF1ab\", \"S\", \"ORF3a\", \"E\", \"M\", \"ORF6\", \"ORF7a\", \"ORF7b\", \"ORF8\", \"N\", \"ORF10\",\n",
    "    \"ORF1ab-minus\", \"S-minus\", \"ORF3a-minus\", \"E-minus\", \"M-minus\", \"ORF6-minus\",\n",
    "    \"ORF7a-minus\", \"ORF7b-minus\", \"ORF8-minus\", \"N-minus\", \"ORF10-minus\"]\n",
    "adata.var['viral'] = [True if gene in viral_genes else False for gene in adata.var_names]\n",
    "len(viral_genes)"
   ]
  },
  {
   "cell_type": "markdown",
   "metadata": {},
   "source": [
    "Label perturbations from deMULTIplex."
   ]
  },
  {
   "cell_type": "code",
   "execution_count": 12,
   "metadata": {},
   "outputs": [],
   "source": [
    "# grab from existing adata for now\n",
    "labeled_adata = sc.read_h5ad('/storage/groups/ml01/workspace/meshal.ansari/Covid19_ALI_MULTIseq/201207_covid19_ALI_assigned.h5ad')"
   ]
  },
  {
   "cell_type": "code",
   "execution_count": 13,
   "metadata": {},
   "outputs": [],
   "source": [
    "adata.obs['treatment'] = labeled_adata.obs['treatment']\n",
    "adata.obs['treatment_virus'] = labeled_adata.obs['treatment_virus']\n",
    "adata.obs['infected'] = labeled_adata.obs['infected']"
   ]
  },
  {
   "cell_type": "code",
   "execution_count": 15,
   "metadata": {},
   "outputs": [],
   "source": [
    "adata.obs[\"viral_counts\"] = adata.X[:, adata.var['viral']].sum(1)"
   ]
  },
  {
   "cell_type": "markdown",
   "metadata": {},
   "source": [
    "How many are mislabeled?"
   ]
  },
  {
   "cell_type": "code",
   "execution_count": 16,
   "metadata": {
    "scrolled": false
   },
   "outputs": [
    {
     "data": {
      "text/html": [
       "<div>\n",
       "<style scoped>\n",
       "    .dataframe tbody tr th:only-of-type {\n",
       "        vertical-align: middle;\n",
       "    }\n",
       "\n",
       "    .dataframe tbody tr th {\n",
       "        vertical-align: top;\n",
       "    }\n",
       "\n",
       "    .dataframe thead th {\n",
       "        text-align: right;\n",
       "    }\n",
       "</style>\n",
       "<table border=\"1\" class=\"dataframe\">\n",
       "  <thead>\n",
       "    <tr style=\"text-align: right;\">\n",
       "      <th>col_0</th>\n",
       "      <th>False</th>\n",
       "      <th>True</th>\n",
       "    </tr>\n",
       "    <tr>\n",
       "      <th>row_0</th>\n",
       "      <th></th>\n",
       "      <th></th>\n",
       "    </tr>\n",
       "  </thead>\n",
       "  <tbody>\n",
       "    <tr>\n",
       "      <th>BB95</th>\n",
       "      <td>1517</td>\n",
       "      <td>221</td>\n",
       "    </tr>\n",
       "    <tr>\n",
       "      <th>BB95 + sars-cov-2</th>\n",
       "      <td>1846</td>\n",
       "      <td>314</td>\n",
       "    </tr>\n",
       "    <tr>\n",
       "      <th>DMSO + sars-cov-2</th>\n",
       "      <td>1992</td>\n",
       "      <td>293</td>\n",
       "    </tr>\n",
       "    <tr>\n",
       "      <th>Gilt</th>\n",
       "      <td>1713</td>\n",
       "      <td>243</td>\n",
       "    </tr>\n",
       "    <tr>\n",
       "      <th>Gilt + sars-cov-2</th>\n",
       "      <td>1708</td>\n",
       "      <td>268</td>\n",
       "    </tr>\n",
       "    <tr>\n",
       "      <th>IFNL</th>\n",
       "      <td>4658</td>\n",
       "      <td>566</td>\n",
       "    </tr>\n",
       "    <tr>\n",
       "      <th>IFNL + sars-cov-2</th>\n",
       "      <td>3724</td>\n",
       "      <td>408</td>\n",
       "    </tr>\n",
       "    <tr>\n",
       "      <th>IFNa (b_d)</th>\n",
       "      <td>8830</td>\n",
       "      <td>1003</td>\n",
       "    </tr>\n",
       "    <tr>\n",
       "      <th>IFNa (b_d) + sars-cov-2</th>\n",
       "      <td>7733</td>\n",
       "      <td>938</td>\n",
       "    </tr>\n",
       "    <tr>\n",
       "      <th>IFNa_TNFa</th>\n",
       "      <td>6313</td>\n",
       "      <td>670</td>\n",
       "    </tr>\n",
       "    <tr>\n",
       "      <th>IFNa_TNFa + sars-cov-2</th>\n",
       "      <td>7087</td>\n",
       "      <td>816</td>\n",
       "    </tr>\n",
       "    <tr>\n",
       "      <th>IFNg</th>\n",
       "      <td>8986</td>\n",
       "      <td>1033</td>\n",
       "    </tr>\n",
       "    <tr>\n",
       "      <th>IFNg + sars-cov-2</th>\n",
       "      <td>7501</td>\n",
       "      <td>834</td>\n",
       "    </tr>\n",
       "    <tr>\n",
       "      <th>IFNg_TGFb</th>\n",
       "      <td>3769</td>\n",
       "      <td>416</td>\n",
       "    </tr>\n",
       "    <tr>\n",
       "      <th>IFNg_TGFb + sars-cov-2</th>\n",
       "      <td>4060</td>\n",
       "      <td>449</td>\n",
       "    </tr>\n",
       "    <tr>\n",
       "      <th>Sorafenib</th>\n",
       "      <td>7156</td>\n",
       "      <td>871</td>\n",
       "    </tr>\n",
       "    <tr>\n",
       "      <th>Sorafenib + sars-cov-2</th>\n",
       "      <td>5739</td>\n",
       "      <td>757</td>\n",
       "    </tr>\n",
       "    <tr>\n",
       "      <th>TGFb2</th>\n",
       "      <td>7378</td>\n",
       "      <td>835</td>\n",
       "    </tr>\n",
       "    <tr>\n",
       "      <th>TGFb2 + sars-cov-2</th>\n",
       "      <td>8743</td>\n",
       "      <td>1123</td>\n",
       "    </tr>\n",
       "    <tr>\n",
       "      <th>TGFb_Tirapazamine</th>\n",
       "      <td>3473</td>\n",
       "      <td>405</td>\n",
       "    </tr>\n",
       "    <tr>\n",
       "      <th>TGFb_Tirapazamine + sars-cov-2</th>\n",
       "      <td>4270</td>\n",
       "      <td>465</td>\n",
       "    </tr>\n",
       "    <tr>\n",
       "      <th>TNFa</th>\n",
       "      <td>8021</td>\n",
       "      <td>958</td>\n",
       "    </tr>\n",
       "    <tr>\n",
       "      <th>TNFa + sars-cov-2</th>\n",
       "      <td>7398</td>\n",
       "      <td>1039</td>\n",
       "    </tr>\n",
       "    <tr>\n",
       "      <th>TNFa_DDA</th>\n",
       "      <td>2126</td>\n",
       "      <td>274</td>\n",
       "    </tr>\n",
       "    <tr>\n",
       "      <th>TNFa_DDA + sars-cov-2</th>\n",
       "      <td>1650</td>\n",
       "      <td>294</td>\n",
       "    </tr>\n",
       "    <tr>\n",
       "      <th>TNFa_IFNg</th>\n",
       "      <td>4951</td>\n",
       "      <td>599</td>\n",
       "    </tr>\n",
       "    <tr>\n",
       "      <th>TNFa_IFNg + sars-cov-2</th>\n",
       "      <td>5339</td>\n",
       "      <td>662</td>\n",
       "    </tr>\n",
       "    <tr>\n",
       "      <th>TNFa_TGFb</th>\n",
       "      <td>5496</td>\n",
       "      <td>616</td>\n",
       "    </tr>\n",
       "    <tr>\n",
       "      <th>TNFa_TGFb + sars-cov-2</th>\n",
       "      <td>5048</td>\n",
       "      <td>643</td>\n",
       "    </tr>\n",
       "    <tr>\n",
       "      <th>TNFa_Tirapazamine</th>\n",
       "      <td>3618</td>\n",
       "      <td>394</td>\n",
       "    </tr>\n",
       "    <tr>\n",
       "      <th>TNFa_Tirapazamine + sars-cov-2</th>\n",
       "      <td>3977</td>\n",
       "      <td>468</td>\n",
       "    </tr>\n",
       "    <tr>\n",
       "      <th>Tirapazamine</th>\n",
       "      <td>7313</td>\n",
       "      <td>884</td>\n",
       "    </tr>\n",
       "    <tr>\n",
       "      <th>Tirapazamine + sars-cov-2</th>\n",
       "      <td>6950</td>\n",
       "      <td>880</td>\n",
       "    </tr>\n",
       "    <tr>\n",
       "      <th>mock</th>\n",
       "      <td>13351</td>\n",
       "      <td>1552</td>\n",
       "    </tr>\n",
       "    <tr>\n",
       "      <th>mock + sars-cov-2</th>\n",
       "      <td>14507</td>\n",
       "      <td>1842</td>\n",
       "    </tr>\n",
       "  </tbody>\n",
       "</table>\n",
       "</div>"
      ],
      "text/plain": [
       "col_0                           False  True \n",
       "row_0                                       \n",
       "BB95                             1517    221\n",
       "BB95 + sars-cov-2                1846    314\n",
       "DMSO + sars-cov-2                1992    293\n",
       "Gilt                             1713    243\n",
       "Gilt + sars-cov-2                1708    268\n",
       "IFNL                             4658    566\n",
       "IFNL + sars-cov-2                3724    408\n",
       "IFNa (b_d)                       8830   1003\n",
       "IFNa (b_d) + sars-cov-2          7733    938\n",
       "IFNa_TNFa                        6313    670\n",
       "IFNa_TNFa + sars-cov-2           7087    816\n",
       "IFNg                             8986   1033\n",
       "IFNg + sars-cov-2                7501    834\n",
       "IFNg_TGFb                        3769    416\n",
       "IFNg_TGFb + sars-cov-2           4060    449\n",
       "Sorafenib                        7156    871\n",
       "Sorafenib + sars-cov-2           5739    757\n",
       "TGFb2                            7378    835\n",
       "TGFb2 + sars-cov-2               8743   1123\n",
       "TGFb_Tirapazamine                3473    405\n",
       "TGFb_Tirapazamine + sars-cov-2   4270    465\n",
       "TNFa                             8021    958\n",
       "TNFa + sars-cov-2                7398   1039\n",
       "TNFa_DDA                         2126    274\n",
       "TNFa_DDA + sars-cov-2            1650    294\n",
       "TNFa_IFNg                        4951    599\n",
       "TNFa_IFNg + sars-cov-2           5339    662\n",
       "TNFa_TGFb                        5496    616\n",
       "TNFa_TGFb + sars-cov-2           5048    643\n",
       "TNFa_Tirapazamine                3618    394\n",
       "TNFa_Tirapazamine + sars-cov-2   3977    468\n",
       "Tirapazamine                     7313    884\n",
       "Tirapazamine + sars-cov-2        6950    880\n",
       "mock                            13351   1552\n",
       "mock + sars-cov-2               14507   1842"
      ]
     },
     "execution_count": 16,
     "metadata": {},
     "output_type": "execute_result"
    }
   ],
   "source": [
    "pd.crosstab(adata.obs['treatment_virus'].values, (adata.obs['viral_counts'].values > 0))"
   ]
  },
  {
   "cell_type": "code",
   "execution_count": 18,
   "metadata": {
    "scrolled": false
   },
   "outputs": [
    {
     "name": "stderr",
     "output_type": "stream",
     "text": [
      "/home/icb/yuge.ji/miniconda3/envs/py37/lib/python3.7/site-packages/ipykernel/ipkernel.py:287: DeprecationWarning: `should_run_async` will not call `transform_cell` automatically in the future. Please pass the result to `transformed_cell` argument and any exception that happen during thetransform in `preprocessing_exc_tuple` in IPython 7.17 and above.\n",
      "  and should_run_async(code)\n",
      "/home/icb/yuge.ji/miniconda3/envs/py37/lib/python3.7/site-packages/anndata/_core/anndata.py:1192: FutureWarning: is_categorical is deprecated and will be removed in a future version.  Use is_categorical_dtype instead\n",
      "  if is_string_dtype(df[key]) and not is_categorical(df[key])\n",
      "... storing 'identifier' as categorical\n",
      "... storing 'patient' as categorical\n",
      "... storing 'name' as categorical\n",
      "... storing 'barcode_round' as categorical\n",
      "... storing 'feature_types' as categorical\n",
      "... storing 'genome' as categorical\n"
     ]
    },
    {
     "name": "stdout",
     "output_type": "stream",
     "text": [
      "saved to /storage/groups/ml01/workspace/yuge.ji/covid-perturbation/data/210118_curated\n",
      "CPU times: user 4min 4s, sys: 3.12 s, total: 4min 7s\n",
      "Wall time: 4min 6s\n"
     ]
    }
   ],
   "source": [
    "%%time\n",
    "loc = save_dir + '210118_curated'\n",
    "sc.write(loc, adata)\n",
    "print('saved to', loc)"
   ]
  }
 ],
 "metadata": {
  "kernelspec": {
   "display_name": "Python 3",
   "language": "python",
   "name": "python3"
  },
  "language_info": {
   "codemirror_mode": {
    "name": "ipython",
    "version": 3
   },
   "file_extension": ".py",
   "mimetype": "text/x-python",
   "name": "python",
   "nbconvert_exporter": "python",
   "pygments_lexer": "ipython3",
   "version": "3.7.0"
  }
 },
 "nbformat": 4,
 "nbformat_minor": 4
}
