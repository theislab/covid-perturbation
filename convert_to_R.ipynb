{
 "cells": [
  {
   "cell_type": "markdown",
   "id": "eleven-campaign",
   "metadata": {},
   "source": [
    "Note `r_env` kernel - R cannot find the home directory unless jupyter is also run in this environment :/\n"
   ]
  },
  {
   "cell_type": "code",
   "execution_count": 1,
   "id": "fifth-editing",
   "metadata": {},
   "outputs": [
    {
     "name": "stderr",
     "output_type": "stream",
     "text": [
      "/home/icb/yuge.ji/miniconda3/envs/r_env/lib/python3.9/site-packages/ipykernel/ipkernel.py:287: DeprecationWarning: `should_run_async` will not call `transform_cell` automatically in the future. Please pass the result to `transformed_cell` argument and any exception that happen during thetransform in `preprocessing_exc_tuple` in IPython 7.17 and above.\n",
      "  and should_run_async(code)\n"
     ]
    }
   ],
   "source": [
    "from rpy2.robjects import r"
   ]
  },
  {
   "cell_type": "code",
   "execution_count": 2,
   "id": "junior-curtis",
   "metadata": {},
   "outputs": [
    {
     "name": "stderr",
     "output_type": "stream",
     "text": [
      "/home/icb/yuge.ji/miniconda3/envs/r_env/lib/python3.9/site-packages/ipykernel/ipkernel.py:287: DeprecationWarning: `should_run_async` will not call `transform_cell` automatically in the future. Please pass the result to `transformed_cell` argument and any exception that happen during thetransform in `preprocessing_exc_tuple` in IPython 7.17 and above.\n",
      "  and should_run_async(code)\n"
     ]
    },
    {
     "data": {
      "text/html": [
       "\n",
       "        <span>ListVector with 14 elements.</span>\n",
       "        <table>\n",
       "        <tbody>\n",
       "        \n",
       "          <tr>\n",
       "            <th>\n",
       "            platform\n",
       "            </th>\n",
       "            <td>\n",
       "            \n",
       "        <span>StrVector with 1 elements.</span>\n",
       "        <table>\n",
       "        <tbody>\n",
       "          <tr>\n",
       "          \n",
       "            <td>\n",
       "            'x86_64-conda_cos6-linux-gnu'\n",
       "            </td>\n",
       "          \n",
       "          </tr>\n",
       "        </tbody>\n",
       "        </table>\n",
       "        \n",
       "            </td>\n",
       "          </tr>\n",
       "        \n",
       "          <tr>\n",
       "            <th>\n",
       "            arch\n",
       "            </th>\n",
       "            <td>\n",
       "            \n",
       "        <span>StrVector with 1 elements.</span>\n",
       "        <table>\n",
       "        <tbody>\n",
       "          <tr>\n",
       "          \n",
       "            <td>\n",
       "            'x86_64'\n",
       "            </td>\n",
       "          \n",
       "          </tr>\n",
       "        </tbody>\n",
       "        </table>\n",
       "        \n",
       "            </td>\n",
       "          </tr>\n",
       "        \n",
       "          <tr>\n",
       "            <th>\n",
       "            os\n",
       "            </th>\n",
       "            <td>\n",
       "            \n",
       "        <span>StrVector with 1 elements.</span>\n",
       "        <table>\n",
       "        <tbody>\n",
       "          <tr>\n",
       "          \n",
       "            <td>\n",
       "            'linux-gnu'\n",
       "            </td>\n",
       "          \n",
       "          </tr>\n",
       "        </tbody>\n",
       "        </table>\n",
       "        \n",
       "            </td>\n",
       "          </tr>\n",
       "        \n",
       "          <tr>\n",
       "            <th>\n",
       "            ...\n",
       "            </th>\n",
       "            <td>\n",
       "            ...\n",
       "            </td>\n",
       "          </tr>\n",
       "        \n",
       "          <tr>\n",
       "            <th>\n",
       "            language\n",
       "            </th>\n",
       "            <td>\n",
       "            \n",
       "        <span>StrVector with 1 elements.</span>\n",
       "        <table>\n",
       "        <tbody>\n",
       "          <tr>\n",
       "          \n",
       "            <td>\n",
       "            'R'\n",
       "            </td>\n",
       "          \n",
       "          </tr>\n",
       "        </tbody>\n",
       "        </table>\n",
       "        \n",
       "            </td>\n",
       "          </tr>\n",
       "        \n",
       "          <tr>\n",
       "            <th>\n",
       "            version.string\n",
       "            </th>\n",
       "            <td>\n",
       "            \n",
       "        <span>StrVector with 1 elements.</span>\n",
       "        <table>\n",
       "        <tbody>\n",
       "          <tr>\n",
       "          \n",
       "            <td>\n",
       "            'R version 3.6.1 (2019-07-05)'\n",
       "            </td>\n",
       "          \n",
       "          </tr>\n",
       "        </tbody>\n",
       "        </table>\n",
       "        \n",
       "            </td>\n",
       "          </tr>\n",
       "        \n",
       "          <tr>\n",
       "            <th>\n",
       "            nickname\n",
       "            </th>\n",
       "            <td>\n",
       "            \n",
       "        <span>StrVector with 1 elements.</span>\n",
       "        <table>\n",
       "        <tbody>\n",
       "          <tr>\n",
       "          \n",
       "            <td>\n",
       "            'Action of the Toes'\n",
       "            </td>\n",
       "          \n",
       "          </tr>\n",
       "        </tbody>\n",
       "        </table>\n",
       "        \n",
       "            </td>\n",
       "          </tr>\n",
       "        \n",
       "        </tbody>\n",
       "        </table>\n",
       "        "
      ],
      "text/plain": [
       "<rpy2.robjects.vectors.ListVector object at 0x7f4657594100> [RTYPES.VECSXP]\n",
       "R classes: ('simple.list',)\n",
       "[StrSexpVe..., StrSexpVe..., StrSexpVe..., StrSexpVe..., ..., StrSexpVe..., StrSexpVe..., StrSexpVe..., StrSexpVe...]\n",
       "  platform: <class 'rpy2.robjects.vectors.StrVector'>\n",
       "  <rpy2.robjects.vectors.StrVector object at 0x7f46576e8080> [RTYPES.STRSXP]\n",
       "R classes: ('character',)\n",
       "['x86_64-conda_cos6-linux-gnu']\n",
       "  arch: <class 'rpy2.robjects.vectors.StrVector'>\n",
       "  <rpy2.robjects.vectors.StrVector object at 0x7f465754ff00> [RTYPES.STRSXP]\n",
       "R classes: ('character',)\n",
       "['x86_64']\n",
       "  os: <class 'rpy2.robjects.vectors.StrVector'>\n",
       "  <rpy2.robjects.vectors.StrVector object at 0x7f4657555300> [RTYPES.STRSXP]\n",
       "R classes: ('character',)\n",
       "['linux-gnu']\n",
       "  system: <class 'rpy2.robjects.vectors.StrVector'>\n",
       "  <rpy2.robjects.vectors.StrVector object at 0x7f4657555740> [RTYPES.STRSXP]\n",
       "R classes: ('character',)\n",
       "['x86_64, linux-gnu']\n",
       "...\n",
       "  major: <class 'rpy2.robjects.vectors.StrVector'>\n",
       "  <rpy2.robjects.vectors.StrVector object at 0x7f4657555c00> [RTYPES.STRSXP]\n",
       "R classes: ('character',)\n",
       "['76782']\n",
       "  minor: <class 'rpy2.robjects.vectors.StrVector'>\n",
       "  <rpy2.robjects.vectors.StrVector object at 0x7f4657555d80> [RTYPES.STRSXP]\n",
       "R classes: ('character',)\n",
       "['R']\n",
       "  year: <class 'rpy2.robjects.vectors.StrVector'>\n",
       "  <rpy2.robjects.vectors.StrVector object at 0x7f4657555d40> [RTYPES.STRSXP]\n",
       "R classes: ('character',)\n",
       "['R version 3.6.1 (2019-07-05)']\n",
       "  month: <class 'rpy2.robjects.vectors.StrVector'>\n",
       "  <rpy2.robjects.vectors.StrVector object at 0x7f4657557280> [RTYPES.STRSXP]\n",
       "R classes: ('character',)\n",
       "['Action of the Toes']"
      ]
     },
     "execution_count": 2,
     "metadata": {},
     "output_type": "execute_result"
    }
   ],
   "source": [
    "r('version')"
   ]
  },
  {
   "cell_type": "code",
   "execution_count": 3,
   "id": "otherwise-february",
   "metadata": {},
   "outputs": [
    {
     "name": "stderr",
     "output_type": "stream",
     "text": [
      "/home/icb/yuge.ji/miniconda3/envs/r_env/lib/python3.9/site-packages/tables/__init__.py:99: DeprecationWarning: `np.typeDict` is a deprecated alias for `np.sctypeDict`.\n",
      "  from .utilsextension import (\n"
     ]
    }
   ],
   "source": [
    "import scanpy as sc\n",
    "import anndata2ri\n",
    "from rpy2.robjects import r"
   ]
  },
  {
   "cell_type": "code",
   "execution_count": 4,
   "id": "official-train",
   "metadata": {},
   "outputs": [
    {
     "name": "stderr",
     "output_type": "stream",
     "text": [
      "/home/icb/yuge.ji/miniconda3/envs/r_env/lib/python3.9/site-packages/ipykernel/ipkernel.py:287: DeprecationWarning: `should_run_async` will not call `transform_cell` automatically in the future. Please pass the result to `transformed_cell` argument and any exception that happen during thetransform in `preprocessing_exc_tuple` in IPython 7.17 and above.\n",
      "  and should_run_async(code)\n",
      "/home/icb/yuge.ji/miniconda3/envs/r_env/lib/python3.9/site-packages/rpy2/robjects/pandas2ri.py:261: DeprecationWarning: The global conversion available with activate() is deprecated and will be removed in the next major release. Use a local converter.\n",
      "  warnings.warn('The global conversion available with activate() '\n",
      "/home/icb/yuge.ji/miniconda3/envs/r_env/lib/python3.9/site-packages/rpy2/robjects/numpy2ri.py:185: DeprecationWarning: The global conversion available with activate() is deprecated and will be removed in the next major release. Use a local converter.\n",
      "  warnings.warn('The global conversion available with activate() '\n"
     ]
    }
   ],
   "source": [
    "import anndata2ri\n",
    "anndata2ri.activate()\n",
    "%load_ext rpy2.ipython"
   ]
  },
  {
   "cell_type": "code",
   "execution_count": 5,
   "id": "august-dover",
   "metadata": {},
   "outputs": [
    {
     "name": "stdout",
     "output_type": "stream",
     "text": [
      "CPU times: user 36.1 s, sys: 2.39 s, total: 38.5 s\n",
      "Wall time: 38.8 s\n"
     ]
    }
   ],
   "source": [
    "%%time\n",
    "adatas = {\n",
    "    f'patient_{p}': sc.read(f'/storage/groups/ml01/workspace/yuge.ji/covid-perturbation/data/210118_annot_patient_{p}.h5ad') for p in [1, 2, 3, 4]\n",
    "}"
   ]
  },
  {
   "cell_type": "code",
   "execution_count": 6,
   "id": "cleared-rachel",
   "metadata": {},
   "outputs": [],
   "source": [
    "import pandas as pd\n",
    "def repeat(f):\n",
    "    d = {}\n",
    "    for p, adata in adatas.items():\n",
    "        d[p] = f(p, adata)\n",
    "    return d\n",
    "\n",
    "def f(p, adata):\n",
    "    adata.obs['infection_label'] = ['sars-cov-2' in s if not pd.isnull(s) else 'nan' for s in adata.obs.treatment_virus.values]\n",
    "    adata.obs['infection_label'] = adata.obs['infection_label'].map({True: 'infected', False: 'uninfected'})\n",
    "    return adata\n",
    "adatas = repeat(f)"
   ]
  },
  {
   "cell_type": "code",
   "execution_count": 7,
   "id": "united-chapel",
   "metadata": {},
   "outputs": [],
   "source": [
    "import anndata as ad\n",
    "adata = ad.concat(adatas)"
   ]
  },
  {
   "cell_type": "code",
   "execution_count": 8,
   "id": "greater-priority",
   "metadata": {},
   "outputs": [
    {
     "name": "stderr",
     "output_type": "stream",
     "text": [
      "/home/icb/yuge.ji/miniconda3/envs/r_env/lib/python3.9/site-packages/anndata/_core/anndata.py:1220: FutureWarning: The `inplace` parameter in pandas.Categorical.reorder_categories is deprecated and will be removed in a future version. Removing unused categories will always return a new Categorical object.\n",
      "  c.reorder_categories(natsorted(c.categories), inplace=True)\n",
      "... storing 'identifier' as categorical\n",
      "/home/icb/yuge.ji/miniconda3/envs/r_env/lib/python3.9/site-packages/anndata/_core/anndata.py:1220: FutureWarning: The `inplace` parameter in pandas.Categorical.reorder_categories is deprecated and will be removed in a future version. Removing unused categories will always return a new Categorical object.\n",
      "  c.reorder_categories(natsorted(c.categories), inplace=True)\n",
      "... storing 'patient' as categorical\n",
      "/home/icb/yuge.ji/miniconda3/envs/r_env/lib/python3.9/site-packages/anndata/_core/anndata.py:1220: FutureWarning: The `inplace` parameter in pandas.Categorical.reorder_categories is deprecated and will be removed in a future version. Removing unused categories will always return a new Categorical object.\n",
      "  c.reorder_categories(natsorted(c.categories), inplace=True)\n",
      "... storing 'name' as categorical\n",
      "/home/icb/yuge.ji/miniconda3/envs/r_env/lib/python3.9/site-packages/anndata/_core/anndata.py:1220: FutureWarning: The `inplace` parameter in pandas.Categorical.reorder_categories is deprecated and will be removed in a future version. Removing unused categories will always return a new Categorical object.\n",
      "  c.reorder_categories(natsorted(c.categories), inplace=True)\n",
      "... storing 'barcode_round' as categorical\n",
      "/home/icb/yuge.ji/miniconda3/envs/r_env/lib/python3.9/site-packages/anndata/_core/anndata.py:1220: FutureWarning: The `inplace` parameter in pandas.Categorical.reorder_categories is deprecated and will be removed in a future version. Removing unused categories will always return a new Categorical object.\n",
      "  c.reorder_categories(natsorted(c.categories), inplace=True)\n",
      "... storing 'sample' as categorical\n",
      "/home/icb/yuge.ji/miniconda3/envs/r_env/lib/python3.9/site-packages/anndata/_core/anndata.py:1220: FutureWarning: The `inplace` parameter in pandas.Categorical.reorder_categories is deprecated and will be removed in a future version. Removing unused categories will always return a new Categorical object.\n",
      "  c.reorder_categories(natsorted(c.categories), inplace=True)\n",
      "... storing 'treatment' as categorical\n",
      "/home/icb/yuge.ji/miniconda3/envs/r_env/lib/python3.9/site-packages/anndata/_core/anndata.py:1220: FutureWarning: The `inplace` parameter in pandas.Categorical.reorder_categories is deprecated and will be removed in a future version. Removing unused categories will always return a new Categorical object.\n",
      "  c.reorder_categories(natsorted(c.categories), inplace=True)\n",
      "... storing 'treatment_virus' as categorical\n",
      "/home/icb/yuge.ji/miniconda3/envs/r_env/lib/python3.9/site-packages/anndata/_core/anndata.py:1220: FutureWarning: The `inplace` parameter in pandas.Categorical.reorder_categories is deprecated and will be removed in a future version. Removing unused categories will always return a new Categorical object.\n",
      "  c.reorder_categories(natsorted(c.categories), inplace=True)\n",
      "... storing 'leiden' as categorical\n",
      "/home/icb/yuge.ji/miniconda3/envs/r_env/lib/python3.9/site-packages/anndata/_core/anndata.py:1220: FutureWarning: The `inplace` parameter in pandas.Categorical.reorder_categories is deprecated and will be removed in a future version. Removing unused categories will always return a new Categorical object.\n",
      "  c.reorder_categories(natsorted(c.categories), inplace=True)\n",
      "... storing 'final_bcs' as categorical\n",
      "/home/icb/yuge.ji/miniconda3/envs/r_env/lib/python3.9/site-packages/anndata/_core/anndata.py:1220: FutureWarning: The `inplace` parameter in pandas.Categorical.reorder_categories is deprecated and will be removed in a future version. Removing unused categories will always return a new Categorical object.\n",
      "  c.reorder_categories(natsorted(c.categories), inplace=True)\n",
      "... storing 'batch' as categorical\n",
      "/home/icb/yuge.ji/miniconda3/envs/r_env/lib/python3.9/site-packages/anndata/_core/anndata.py:1220: FutureWarning: The `inplace` parameter in pandas.Categorical.reorder_categories is deprecated and will be removed in a future version. Removing unused categories will always return a new Categorical object.\n",
      "  c.reorder_categories(natsorted(c.categories), inplace=True)\n",
      "... storing 'celltype_coarse' as categorical\n",
      "/home/icb/yuge.ji/miniconda3/envs/r_env/lib/python3.9/site-packages/anndata/_core/anndata.py:1220: FutureWarning: The `inplace` parameter in pandas.Categorical.reorder_categories is deprecated and will be removed in a future version. Removing unused categories will always return a new Categorical object.\n",
      "  c.reorder_categories(natsorted(c.categories), inplace=True)\n",
      "... storing 'cell_type' as categorical\n",
      "/home/icb/yuge.ji/miniconda3/envs/r_env/lib/python3.9/site-packages/anndata/_core/anndata.py:1220: FutureWarning: The `inplace` parameter in pandas.Categorical.reorder_categories is deprecated and will be removed in a future version. Removing unused categories will always return a new Categorical object.\n",
      "  c.reorder_categories(natsorted(c.categories), inplace=True)\n",
      "... storing 'infection_label' as categorical\n"
     ]
    }
   ],
   "source": [
    "sc.write('/storage/groups/ml01/workspace/yuge.ji/covid-perturbation/data/210118_annot_patient_all.h5ad', adata)"
   ]
  },
  {
   "cell_type": "code",
   "execution_count": 14,
   "id": "banned-indication",
   "metadata": {},
   "outputs": [
    {
     "data": {
      "text/plain": [
       "View of AnnData object with n_obs × n_vars = 221974 × 18115\n",
       "    obs: 'identifier', 'patient', 'name', 'barcode_round', 'sample', 'viral_counts', 'treatment', 'treatment_virus', 'infected', 'n_counts', 'n_genes', 'percent_mito', 'percent_viral', 'leiden', 'final_bcs', 'batch', 'celltype_coarse', 'cell_type', 'infection_label'\n",
       "    obsm: 'X_pca', 'X_umap'\n",
       "    layers: 'counts'"
      ]
     },
     "execution_count": 14,
     "metadata": {},
     "output_type": "execute_result"
    }
   ],
   "source": [
    "adata = adata[adata.obs.treatment != 'nan']\n",
    "adata"
   ]
  },
  {
   "cell_type": "code",
   "execution_count": 15,
   "id": "entire-seminar",
   "metadata": {},
   "outputs": [],
   "source": [
    "%%R -i adata\n",
    "\n",
    "saveRDS(adata, '/storage/groups/ml01/workspace/yuge.ji/covid-perturbation/data/210118_annot_patient_all.rds')"
   ]
  },
  {
   "cell_type": "markdown",
   "id": "balanced-gather",
   "metadata": {},
   "source": [
    "### Save individually"
   ]
  },
  {
   "cell_type": "code",
   "execution_count": 6,
   "id": "decent-kernel",
   "metadata": {},
   "outputs": [],
   "source": [
    "adata = adatas['1']"
   ]
  },
  {
   "cell_type": "code",
   "execution_count": 7,
   "id": "accessible-introduction",
   "metadata": {
    "scrolled": true
   },
   "outputs": [],
   "source": [
    "%%R -i adata\n",
    "\n",
    "saveRDS(adata, '/storage/groups/ml01/workspace/yuge.ji/covid-perturbation/data/210118_annot_patient_1.rds')"
   ]
  },
  {
   "cell_type": "code",
   "execution_count": 8,
   "id": "sought-perfume",
   "metadata": {},
   "outputs": [],
   "source": [
    "adata = adatas['2']"
   ]
  },
  {
   "cell_type": "code",
   "execution_count": 9,
   "id": "lightweight-google",
   "metadata": {},
   "outputs": [],
   "source": [
    "%%R -i adata\n",
    "\n",
    "saveRDS(adata, '/storage/groups/ml01/workspace/yuge.ji/covid-perturbation/data/210118_annot_patient_2.rds')"
   ]
  },
  {
   "cell_type": "code",
   "execution_count": 10,
   "id": "adolescent-three",
   "metadata": {},
   "outputs": [],
   "source": [
    "adata = adatas['3']"
   ]
  },
  {
   "cell_type": "code",
   "execution_count": 11,
   "id": "elect-straight",
   "metadata": {
    "scrolled": true
   },
   "outputs": [],
   "source": [
    "%%R -i adata\n",
    "\n",
    "saveRDS(adata, '/storage/groups/ml01/workspace/yuge.ji/covid-perturbation/data/210118_annot_patient_3.rds')"
   ]
  },
  {
   "cell_type": "code",
   "execution_count": 12,
   "id": "dirty-scholar",
   "metadata": {},
   "outputs": [],
   "source": [
    "adata = adatas['4']"
   ]
  },
  {
   "cell_type": "code",
   "execution_count": 13,
   "id": "liquid-heather",
   "metadata": {},
   "outputs": [],
   "source": [
    "%%R -i adata\n",
    "\n",
    "saveRDS(adata, '/storage/groups/ml01/workspace/yuge.ji/covid-perturbation/data/210118_annot_patient_4.rds')"
   ]
  }
 ],
 "metadata": {
  "kernelspec": {
   "display_name": "r_env",
   "language": "python",
   "name": "r_env"
  },
  "language_info": {
   "codemirror_mode": {
    "name": "ipython",
    "version": 3
   },
   "file_extension": ".py",
   "mimetype": "text/x-python",
   "name": "python",
   "nbconvert_exporter": "python",
   "pygments_lexer": "ipython3",
   "version": "3.9.1"
  }
 },
 "nbformat": 4,
 "nbformat_minor": 5
}
