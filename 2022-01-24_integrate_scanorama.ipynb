{
 "cells": [
  {
   "cell_type": "markdown",
   "id": "c9a76939",
   "metadata": {},
   "source": [
    "https://github.com/brianhie/scanorama"
   ]
  },
  {
   "cell_type": "code",
   "execution_count": 1,
   "id": "6b48f030",
   "metadata": {
    "scrolled": true
   },
   "outputs": [
    {
     "name": "stderr",
     "output_type": "stream",
     "text": [
      "/home/icb/yuge.ji/miniconda3/envs/py37/lib/python3.7/site-packages/intervaltree/intervaltree.py:37: DeprecationWarning: Using or importing the ABCs from 'collections' instead of from 'collections.abc' is deprecated, and in 3.8 it will stop working\n",
      "  class IntervalTree(collections.MutableSet):\n"
     ]
    }
   ],
   "source": [
    "import scanorama\n",
    "import anndata as ad\n",
    "import scanpy as sc"
   ]
  },
  {
   "cell_type": "code",
   "execution_count": 2,
   "id": "ae94d421",
   "metadata": {},
   "outputs": [
    {
     "name": "stderr",
     "output_type": "stream",
     "text": [
      "/home/icb/yuge.ji/miniconda3/envs/py37/lib/python3.7/site-packages/scanpy/_settings.py:447: DeprecationWarning: `set_matplotlib_formats` is deprecated since IPython 7.23, directly use `matplotlib_inline.backend_inline.set_matplotlib_formats()`\n",
      "  IPython.display.set_matplotlib_formats(*ipython_format)\n",
      "2022-01-25 17:41:36.037873: W tensorflow/stream_executor/platform/default/dso_loader.cc:64] Could not load dynamic library 'libcudart.so.11.0'; dlerror: libcudart.so.11.0: cannot open shared object file: No such file or directory\n",
      "2022-01-25 17:41:36.037938: I tensorflow/stream_executor/cuda/cudart_stub.cc:29] Ignore above cudart dlerror if you do not have a GPU set up on your machine.\n"
     ]
    },
    {
     "name": "stdout",
     "output_type": "stream",
     "text": [
      "scanpy==1.8.2 anndata==0.7.6 umap==0.5.2 numpy==1.20.3 scipy==1.5.3 pandas==1.3.4 scikit-learn==1.0.2 statsmodels==0.11.1 python-igraph==0.8.3 leidenalg==0.8.3 pynndescent==0.5.5\n"
     ]
    }
   ],
   "source": [
    "sc.set_figure_params(dpi=100, frameon=False, color_map='Reds')\n",
    "sc.logging.print_header()"
   ]
  },
  {
   "cell_type": "code",
   "execution_count": 3,
   "id": "41776468",
   "metadata": {},
   "outputs": [
    {
     "data": {
      "text/plain": [
       "AnnData object with n_obs × n_vars = 300353 × 18115\n",
       "    obs: 'identifier', 'patient', 'name', 'barcode_round', 'sample', 'viral_counts', 'treatment', 'treatment_virus', 'infected', 'n_counts', 'n_genes', 'percent_mito', 'percent_viral', 'leiden', 'final_bcs', 'batch', 'celltype_coarse', 'cell_type', 'infection_label', '_scvi_batch', '_scvi_labels', 'celltype_fine'\n",
       "    var: 'used_for_scvi'\n",
       "    uns: '_scvi', 'cell_type_colors', 'celltype_coarse_colors', 'celltype_fine_colors', 'hvg', 'infected_colors', 'leiden', 'leiden_colors', 'neighbors', 'patient_colors', 'rank_genes_groups', 'treatment_colors', 'umap'\n",
       "    obsm: 'X_pca', 'X_scVI', 'X_umap'\n",
       "    layers: 'counts'\n",
       "    obsp: 'connectivities', 'distances'"
      ]
     },
     "execution_count": 3,
     "metadata": {},
     "output_type": "execute_result"
    }
   ],
   "source": [
    "adata = sc.read('/storage/groups/ml01/workspace/yuge.ji/covid-perturbation/data/211015_annot_patient_integrated.h5ad')\n",
    "adata"
   ]
  },
  {
   "cell_type": "code",
   "execution_count": 4,
   "id": "a83d7f0a",
   "metadata": {},
   "outputs": [],
   "source": [
    "adatas = [adata[adata.obs.patient == p] for p in adata.obs.patient.unique()]"
   ]
  },
  {
   "cell_type": "code",
   "execution_count": 5,
   "id": "a7a23797",
   "metadata": {},
   "outputs": [
    {
     "name": "stdout",
     "output_type": "stream",
     "text": [
      "Found 18115 genes among all datasets\n",
      "[[0.         0.82201433 0.01079512 0.00631457]\n",
      " [0.         0.         0.12545504 0.08247544]\n",
      " [0.         0.         0.         0.50119778]\n",
      " [0.         0.         0.         0.        ]]\n",
      "Processing datasets (0, 1)\n",
      "Processing datasets (2, 3)\n",
      "Processing datasets (1, 2)\n",
      "CPU times: user 9h 22min 16s, sys: 41min 29s, total: 10h 3min 45s\n",
      "Wall time: 1h 24min 14s\n"
     ]
    }
   ],
   "source": [
    "%%time\n",
    "# Integration and batch correction.\n",
    "corrected = scanorama.correct_scanpy(adatas, return_dimred=True)"
   ]
  },
  {
   "cell_type": "code",
   "execution_count": 10,
   "id": "8bfe85c4",
   "metadata": {},
   "outputs": [
    {
     "data": {
      "text/plain": [
       "AnnData object with n_obs × n_vars = 300353 × 18115\n",
       "    obs: 'identifier', 'patient', 'name', 'barcode_round', 'sample', 'viral_counts', 'treatment', 'treatment_virus', 'infected', 'n_counts', 'n_genes', 'percent_mito', 'percent_viral', 'leiden', 'final_bcs', 'batch', 'celltype_coarse', 'cell_type', 'infection_label', '_scvi_batch', '_scvi_labels', 'celltype_fine'\n",
       "    var: 'used_for_scvi'\n",
       "    uns: '_scvi', 'cell_type_colors', 'celltype_coarse_colors', 'celltype_fine_colors', 'hvg', 'infected_colors', 'leiden', 'leiden_colors', 'neighbors', 'patient_colors', 'rank_genes_groups', 'treatment_colors', 'umap'\n",
       "    obsm: 'X_pca', 'X_scVI', 'X_umap'\n",
       "    layers: 'counts'\n",
       "    obsp: 'connectivities', 'distances'"
      ]
     },
     "execution_count": 10,
     "metadata": {},
     "output_type": "execute_result"
    }
   ],
   "source": [
    "adata"
   ]
  },
  {
   "cell_type": "code",
   "execution_count": 11,
   "id": "ade346ee",
   "metadata": {},
   "outputs": [
    {
     "name": "stdout",
     "output_type": "stream",
     "text": [
      "CPU times: user 16.6 s, sys: 1min 47s, total: 2min 3s\n",
      "Wall time: 2min 5s\n"
     ]
    }
   ],
   "source": [
    "%%time\n",
    "new_adata = ad.concat(corrected)"
   ]
  },
  {
   "cell_type": "code",
   "execution_count": null,
   "id": "2b76ed12",
   "metadata": {},
   "outputs": [],
   "source": [
    "sc.write('/storage/groups/ml01/workspace/yuge.ji/covid-perturbation/data/211015_annot_patient_integrated_scanorama.h5ad', adata, compression='gzip')"
   ]
  },
  {
   "cell_type": "markdown",
   "id": "758aeaa1",
   "metadata": {},
   "source": [
    "Add back in metadata."
   ]
  },
  {
   "cell_type": "code",
   "execution_count": 16,
   "id": "13b70824",
   "metadata": {},
   "outputs": [],
   "source": [
    "new_adata = new_adata[adata.obs.index, :]"
   ]
  },
  {
   "cell_type": "code",
   "execution_count": null,
   "id": "056cdec1",
   "metadata": {},
   "outputs": [],
   "source": [
    "new_adata.uns = adata.uns.copy()\n",
    "for field in ['X_pca', 'X_scVI', 'X_umap']:\n",
    "    new_adata.obsm[field] = adata.obsm[field]"
   ]
  },
  {
   "cell_type": "code",
   "execution_count": null,
   "id": "0f381761",
   "metadata": {},
   "outputs": [],
   "source": [
    "new_adata.layers['counts'] = adata.layers['counts']"
   ]
  },
  {
   "cell_type": "code",
   "execution_count": null,
   "id": "9df99f90",
   "metadata": {},
   "outputs": [],
   "source": [
    "sc.write('/storage/groups/ml01/workspace/yuge.ji/covid-perturbation/data/211015_annot_patient_integrated_scanorama.h5ad', adata, compression='gzip')"
   ]
  },
  {
   "cell_type": "code",
   "execution_count": 1,
   "id": "918092e6",
   "metadata": {
    "scrolled": false
   },
   "outputs": [],
   "source": [
    "sc.pl.umap(new_adata, color='cell_type')"
   ]
  }
 ],
 "metadata": {
  "kernelspec": {
   "display_name": "Python 3 (ipykernel)",
   "language": "python",
   "name": "python3"
  },
  "language_info": {
   "codemirror_mode": {
    "name": "ipython",
    "version": 3
   },
   "file_extension": ".py",
   "mimetype": "text/x-python",
   "name": "python",
   "nbconvert_exporter": "python",
   "pygments_lexer": "ipython3",
   "version": "3.7.0"
  }
 },
 "nbformat": 4,
 "nbformat_minor": 5
}
