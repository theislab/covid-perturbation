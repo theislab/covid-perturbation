{
 "cells": [
  {
   "cell_type": "code",
   "execution_count": 1,
   "id": "ccb0ef3c",
   "metadata": {},
   "outputs": [],
   "source": [
    "import scanpy as sc"
   ]
  },
  {
   "cell_type": "code",
   "execution_count": 2,
   "id": "6819c480",
   "metadata": {},
   "outputs": [
    {
     "name": "stderr",
     "output_type": "stream",
     "text": [
      "2022-06-28 15:15:26.035018: W tensorflow/stream_executor/platform/default/dso_loader.cc:64] Could not load dynamic library 'libcudart.so.11.0'; dlerror: libcudart.so.11.0: cannot open shared object file: No such file or directory\n",
      "2022-06-28 15:15:26.035056: I tensorflow/stream_executor/cuda/cudart_stub.cc:29] Ignore above cudart dlerror if you do not have a GPU set up on your machine.\n"
     ]
    },
    {
     "name": "stdout",
     "output_type": "stream",
     "text": [
      "scanpy==1.8.2 anndata==0.7.6 umap==0.5.2 numpy==1.20.3 scipy==1.5.3 pandas==1.3.4 scikit-learn==1.0.2 statsmodels==0.11.1 python-igraph==0.8.3 leidenalg==0.8.3 pynndescent==0.5.5\n"
     ]
    }
   ],
   "source": [
    "sc.logging.print_header()"
   ]
  },
  {
   "cell_type": "code",
   "execution_count": 3,
   "id": "f3720afd",
   "metadata": {},
   "outputs": [],
   "source": [
    "adata = sc.read_h5ad('/storage/groups/ml01/workspace/yuge.ji/covid-perturbation/data/211015_annot_patient_integrated.h5ad')"
   ]
  },
  {
   "cell_type": "code",
   "execution_count": 4,
   "id": "d710a6a9",
   "metadata": {},
   "outputs": [
    {
     "data": {
      "text/plain": [
       "AnnData object with n_obs × n_vars = 300353 × 18115\n",
       "    obs: 'identifier', 'patient', 'name', 'barcode_round', 'sample', 'viral_counts', 'treatment', 'treatment_virus', 'infected', 'n_counts', 'n_genes', 'percent_mito', 'percent_viral', 'leiden', 'final_bcs', 'batch', 'celltype_coarse', 'cell_type', 'infection_label', '_scvi_batch', '_scvi_labels', 'celltype_fine'\n",
       "    var: 'used_for_scvi'\n",
       "    uns: '_scvi', 'cell_type_colors', 'celltype_coarse_colors', 'celltype_fine_colors', 'hvg', 'infected_colors', 'leiden', 'leiden_colors', 'neighbors', 'patient_colors', 'rank_genes_groups', 'treatment_colors', 'umap'\n",
       "    obsm: 'X_pca', 'X_scVI', 'X_umap'\n",
       "    layers: 'counts'\n",
       "    obsp: 'connectivities', 'distances'"
      ]
     },
     "execution_count": 4,
     "metadata": {},
     "output_type": "execute_result"
    }
   ],
   "source": [
    "adata"
   ]
  },
  {
   "cell_type": "code",
   "execution_count": 6,
   "id": "f5a4dbf7",
   "metadata": {},
   "outputs": [],
   "source": [
    "adata.obs['patient'] = [p.replace('_', ' ').capitalize() for p in adata.obs.patient.values]"
   ]
  },
  {
   "cell_type": "code",
   "execution_count": 8,
   "id": "034073bd",
   "metadata": {},
   "outputs": [],
   "source": [
    "adata.obs['cell_type'] = [ct.capitalize() if 'unk' not in ct else ct for ct in adata.obs.cell_type.values]"
   ]
  },
  {
   "cell_type": "code",
   "execution_count": 11,
   "id": "6c092922",
   "metadata": {},
   "outputs": [],
   "source": [
    "adata.obs['treatment'] = adata.obs.treatment.replace({'IFNa (b_d)':'IFNa'})\n",
    "adata.obs['treatment'] = [t.replace('_', ' + ') for t in adata.obs.treatment.values]"
   ]
  },
  {
   "cell_type": "code",
   "execution_count": null,
   "id": "377c05f5",
   "metadata": {},
   "outputs": [],
   "source": [
    "adata.obs['infection'] = adata.obs['infected'].replace({'True':'Infected', 'False':'Uninfected'})"
   ]
  },
  {
   "cell_type": "code",
   "execution_count": 15,
   "id": "9cb7ab66",
   "metadata": {},
   "outputs": [
    {
     "name": "stderr",
     "output_type": "stream",
     "text": [
      "/home/icb/yuge.ji/miniconda3/envs/py37/lib/python3.7/site-packages/anndata/_core/anndata.py:1220: FutureWarning: The `inplace` parameter in pandas.Categorical.reorder_categories is deprecated and will be removed in a future version. Reordering categories will always return a new Categorical object.\n",
      "  c.reorder_categories(natsorted(c.categories), inplace=True)\n",
      "... storing 'treatment' as categorical\n"
     ]
    }
   ],
   "source": [
    "adata.write('/storage/groups/ml01/workspace/yuge.ji/covid-perturbation/data/211015_annot_patient_integrated.h5ad')"
   ]
  }
 ],
 "metadata": {
  "kernelspec": {
   "display_name": "Python [conda env:py37] *",
   "language": "python",
   "name": "conda-env-py37-py"
  },
  "language_info": {
   "codemirror_mode": {
    "name": "ipython",
    "version": 3
   },
   "file_extension": ".py",
   "mimetype": "text/x-python",
   "name": "python",
   "nbconvert_exporter": "python",
   "pygments_lexer": "ipython3",
   "version": "3.7.0"
  }
 },
 "nbformat": 4,
 "nbformat_minor": 5
}
